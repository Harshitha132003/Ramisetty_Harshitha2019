{
 "cells": [
  {
   "cell_type": "code",
   "execution_count": 1,
   "id": "5ba2e06b",
   "metadata": {},
   "outputs": [],
   "source": [
    "import cv2"
   ]
  },
  {
   "cell_type": "code",
   "execution_count": 2,
   "id": "d00660b0",
   "metadata": {},
   "outputs": [],
   "source": [
    "img = cv2.imread('pic.png')\n"
   ]
  },
  {
   "cell_type": "code",
   "execution_count": 3,
   "id": "f7826474",
   "metadata": {},
   "outputs": [],
   "source": [
    "gray_img= cv2.cvtColor(img,cv2.COLOR_BGR2GRAY)"
   ]
  },
  {
   "cell_type": "code",
   "execution_count": 4,
   "id": "8d86cb0f",
   "metadata": {},
   "outputs": [],
   "source": [
    "haar_cascade = cv2.CascadeClassifier('Haarcascade_frontalface_default.xml')"
   ]
  },
  {
   "cell_type": "code",
   "execution_count": 5,
   "id": "ca5f9ae6",
   "metadata": {},
   "outputs": [],
   "source": [
    "faces_rect=haar_cascade.detectMultiScale(gray_img,1.1,9)"
   ]
  },
  {
   "cell_type": "code",
   "execution_count": 6,
   "id": "aeb32ebe",
   "metadata": {},
   "outputs": [],
   "source": [
    "for (x,y,w,h) in faces_rect:\n",
    "    cv2.rectangle(img,(x,y),(x+w,y+h),(0,255,0),thickness=2)"
   ]
  },
  {
   "cell_type": "code",
   "execution_count": 7,
   "id": "9b6ae5f9",
   "metadata": {},
   "outputs": [],
   "source": [
    "cv2.imshow('detectedfaces',img)"
   ]
  },
  {
   "cell_type": "code",
   "execution_count": null,
   "id": "e60ed1ab",
   "metadata": {},
   "outputs": [],
   "source": [
    "cv2.waitKey(0)"
   ]
  },
  {
   "cell_type": "code",
   "execution_count": null,
   "id": "490b4a52",
   "metadata": {},
   "outputs": [],
   "source": [
    "import cv2\n",
    "import numpy as np\n",
    "\n",
    "# Load the image\n",
    "img = cv2.imread('pic.png', cv2.IMREAD_GRAYSCALE)\n",
    "\n",
    "# Create the FisherFaceRecognizer object\n",
    "fisher_recognizer = cv2.face.FisherFaceRecognizer_create()\n",
    "\n",
    "# Train the recognizer with one image\n",
    "label = 0  # Only one label\n",
    "fisher_recognizer.train([img], np.array([label]))\n",
    "\n",
    "# Predict the label of the same image\n",
    "predicted_label, _ = fisher_recognizer.predict(img)\n",
    "\n",
    "print(\"Predicted label:\", predicted_label)\n"
   ]
  },
  {
   "cell_type": "code",
   "execution_count": null,
   "id": "1e173f5a",
   "metadata": {},
   "outputs": [],
   "source": []
  },
  {
   "cell_type": "code",
   "execution_count": null,
   "id": "a8efd1d0",
   "metadata": {},
   "outputs": [],
   "source": []
  },
  {
   "cell_type": "code",
   "execution_count": null,
   "id": "7a6dfe34",
   "metadata": {},
   "outputs": [],
   "source": []
  }
 ],
 "metadata": {
  "kernelspec": {
   "display_name": "Python 3 (ipykernel)",
   "language": "python",
   "name": "python3"
  },
  "language_info": {
   "codemirror_mode": {
    "name": "ipython",
    "version": 3
   },
   "file_extension": ".py",
   "mimetype": "text/x-python",
   "name": "python",
   "nbconvert_exporter": "python",
   "pygments_lexer": "ipython3",
   "version": "3.9.12"
  }
 },
 "nbformat": 4,
 "nbformat_minor": 5
}
